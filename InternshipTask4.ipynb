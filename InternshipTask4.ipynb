{
 "cells": [
  {
   "cell_type": "code",
   "execution_count": 5,
   "id": "2724dc1b-df91-43ce-ae77-f6201e597fd9",
   "metadata": {},
   "outputs": [
    {
     "name": "stdout",
     "output_type": "stream",
     "text": [
      "Good morning!\n",
      "I'm your AI assistant. Type 'exit' or 'quit' to end the chat.\n"
     ]
    },
    {
     "name": "stdin",
     "output_type": "stream",
     "text": [
      "You:  Hello\n"
     ]
    },
    {
     "name": "stdout",
     "output_type": "stream",
     "text": [
      "Bot: Hello! How can I help you today?\n"
     ]
    },
    {
     "name": "stdin",
     "output_type": "stream",
     "text": [
      "You:  what's your name?\n"
     ]
    },
    {
     "name": "stdout",
     "output_type": "stream",
     "text": [
      "Bot: I'm your AI assistant.\n"
     ]
    },
    {
     "name": "stdin",
     "output_type": "stream",
     "text": [
      "You:  How are you?\n"
     ]
    },
    {
     "name": "stdout",
     "output_type": "stream",
     "text": [
      "Bot: I'm doing well, thank you!\n"
     ]
    },
    {
     "name": "stdin",
     "output_type": "stream",
     "text": [
      "You:  bye\n"
     ]
    },
    {
     "name": "stdout",
     "output_type": "stream",
     "text": [
      "Bot: Goodbye! Have a great day.\n"
     ]
    },
    {
     "name": "stdin",
     "output_type": "stream",
     "text": [
      "You:  quit\n"
     ]
    },
    {
     "name": "stdout",
     "output_type": "stream",
     "text": [
      "Bot: Goodbye! Have a great day.\n"
     ]
    }
   ],
   "source": [
    "import re\n",
    "import difflib\n",
    "from datetime import datetime\n",
    "\n",
    "# define responses\n",
    "responses = {\n",
    "    \"hi\": \"Hello! How can I help you today?\",\n",
    "    \"hello\": \"Hello! How can I help you today?\",\n",
    "    \"what is your name\": \"I'm your AI assistant.\",\n",
    "    \"what's your name\": \"I'm your AI assistant.\",\n",
    "    \"bye\": \"Goodbye! Have a great day.\",\n",
    "    \"goodbye\": \"Goodbye! Have a great day.\",\n",
    "    \"how are you\": \"I'm doing well, thank you!\",\n",
    "}\n",
    "\n",
    "def get_time_greeting():\n",
    "    hour = datetime.now().hour\n",
    "    if hour < 12:\n",
    "        return \"Good morning!\"\n",
    "    elif 12 <= hour < 17:\n",
    "        return \"Good afternoon!\"\n",
    "    else:\n",
    "        return \"Good evening!\"\n",
    "\n",
    "\n",
    "#clean input\n",
    "def clean_input(text):\n",
    "    text = text.lower()\n",
    "    text = re.sub(r'[^\\w\\s]', '', text)\n",
    "    return text.strip()\n",
    "\n",
    "#fuzzy \n",
    "def get_response(user_input):\n",
    "    cleaned = clean_input(user_input)\n",
    "    matches = difflib.get_close_matches(cleaned, responses.keys(), n=1, cutoff=0.7)\n",
    "    if matches:\n",
    "        return responses[matches[0]]\n",
    "    else:\n",
    "        return \"I'm sorry, I didn't understand that.\"\n",
    "\n",
    "# log conversation\n",
    "def log_conversation(user, bot):\n",
    "    with open(\"chat_log.txt\", \"a\") as log:\n",
    "        log.write(f\"User: {user}\\nBot: {bot}\\n\\n\")\n",
    "\n",
    "# main loop\n",
    "def chatbot():\n",
    "    print(get_time_greeting())\n",
    "    print(\"I'm your AI assistant. Type 'exit' or 'quit' to end the chat.\")\n",
    "    \n",
    "    while True:\n",
    "        user_input = input(\"You: \")\n",
    "        if user_input.lower() in [\"exit\", \"quit\"]:\n",
    "            print(\"Bot: Goodbye! Have a great day.\")\n",
    "            log_conversation(user_input, \"Goodbye! Have a great day.\")\n",
    "            break\n",
    "        bot_response = get_response(user_input)\n",
    "        print(\"Bot:\", bot_response)\n",
    "        log_conversation(user_input, bot_response)\n",
    "\n",
    "# run the chatbot\n",
    "chatbot()"
   ]
  },
  {
   "cell_type": "code",
   "execution_count": null,
   "id": "d59aae31-39a1-40b4-b2a4-a78bb5a5e991",
   "metadata": {},
   "outputs": [],
   "source": []
  },
  {
   "cell_type": "code",
   "execution_count": null,
   "id": "305412c5-bb89-46b3-9603-a27b4c3f251e",
   "metadata": {},
   "outputs": [],
   "source": []
  }
 ],
 "metadata": {
  "kernelspec": {
   "display_name": "Python 3 (ipykernel)",
   "language": "python",
   "name": "python3"
  },
  "language_info": {
   "codemirror_mode": {
    "name": "ipython",
    "version": 3
   },
   "file_extension": ".py",
   "mimetype": "text/x-python",
   "name": "python",
   "nbconvert_exporter": "python",
   "pygments_lexer": "ipython3",
   "version": "3.12.4"
  }
 },
 "nbformat": 4,
 "nbformat_minor": 5
}
